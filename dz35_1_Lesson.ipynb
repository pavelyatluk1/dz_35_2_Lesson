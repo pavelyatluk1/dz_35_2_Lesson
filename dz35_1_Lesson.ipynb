{
 "cells": [
  {
   "cell_type": "markdown",
   "id": "af4d5c83",
   "metadata": {},
   "source": [
    "### Pavlo Yatluk\n",
    "#### dz_35_1"
   ]
  },
  {
   "cell_type": "markdown",
   "id": "7c7ee91f",
   "metadata": {},
   "source": [
    "### ЗАВДАННЯ"
   ]
  },
  {
   "cell_type": "markdown",
   "id": "bb03f832",
   "metadata": {},
   "source": [
    "#### Використовуючи дані із файлу student_scores.csv побудуйте модель простої регресії для знаходження залежності між значеннями протяжноcті навчання і середнього балу студентів. Оцініть якість отриманої регресії."
   ]
  },
  {
   "cell_type": "code",
   "execution_count": 1,
   "id": "861f5996",
   "metadata": {},
   "outputs": [],
   "source": [
    "%matplotlib inline\n",
    "import matplotlib.pyplot as plt\n",
    "import numpy as np\n",
    "import pandas as pd\n",
    "import sklearn\n",
    "\n",
    "from sklearn.linear_model import LinearRegression\n",
    "from sklearn.preprocessing import scale\n",
    "from pylab import rcParams\n",
    "rcParams[\"figure.figsize\"] = 10,8"
   ]
  },
  {
   "cell_type": "code",
   "execution_count": 2,
   "id": "de665487",
   "metadata": {},
   "outputs": [
    {
     "data": {
      "text/html": [
       "<div>\n",
       "<style scoped>\n",
       "    .dataframe tbody tr th:only-of-type {\n",
       "        vertical-align: middle;\n",
       "    }\n",
       "\n",
       "    .dataframe tbody tr th {\n",
       "        vertical-align: top;\n",
       "    }\n",
       "\n",
       "    .dataframe thead th {\n",
       "        text-align: right;\n",
       "    }\n",
       "</style>\n",
       "<table border=\"1\" class=\"dataframe\">\n",
       "  <thead>\n",
       "    <tr style=\"text-align: right;\">\n",
       "      <th></th>\n",
       "      <th>Hours</th>\n",
       "      <th>Scores</th>\n",
       "    </tr>\n",
       "  </thead>\n",
       "  <tbody>\n",
       "    <tr>\n",
       "      <th>0</th>\n",
       "      <td>2.5</td>\n",
       "      <td>21</td>\n",
       "    </tr>\n",
       "    <tr>\n",
       "      <th>1</th>\n",
       "      <td>5.1</td>\n",
       "      <td>47</td>\n",
       "    </tr>\n",
       "    <tr>\n",
       "      <th>2</th>\n",
       "      <td>3.2</td>\n",
       "      <td>27</td>\n",
       "    </tr>\n",
       "    <tr>\n",
       "      <th>3</th>\n",
       "      <td>8.5</td>\n",
       "      <td>75</td>\n",
       "    </tr>\n",
       "    <tr>\n",
       "      <th>4</th>\n",
       "      <td>3.5</td>\n",
       "      <td>30</td>\n",
       "    </tr>\n",
       "  </tbody>\n",
       "</table>\n",
       "</div>"
      ],
      "text/plain": [
       "   Hours  Scores\n",
       "0    2.5      21\n",
       "1    5.1      47\n",
       "2    3.2      27\n",
       "3    8.5      75\n",
       "4    3.5      30"
      ]
     },
     "execution_count": 2,
     "metadata": {},
     "output_type": "execute_result"
    }
   ],
   "source": [
    "stud = pd.read_excel(r\"C:\\Users\\Pavel\\Documents\\GitHub\\PDS1\\Lesson 35\\student_scores.xlsx\")\n",
    "stud.head()"
   ]
  },
  {
   "cell_type": "code",
   "execution_count": 3,
   "id": "cc0bbeab",
   "metadata": {},
   "outputs": [
    {
     "data": {
      "image/png": "[encoded data removed]",
      "text/plain": [
       "<Figure size 1000x800 with 1 Axes>"
      ]
     },
     "metadata": {},
     "output_type": "display_data"
    }
   ],
   "source": [
    "plt.scatter(sorted(stud['Hours']), sorted(stud['Scores']), color = 'red', marker = \"D\")\n",
    "plt.xlabel('Hours')\n",
    "plt.ylabel('Scores')\n",
    "plt.show()"
   ]
  },
  {
   "cell_type": "code",
   "execution_count": 4,
   "id": "f1496e65",
   "metadata": {},
   "outputs": [
    {
     "name": "stdout",
     "output_type": "stream",
     "text": [
      "[2.48367341] [[9.77580339]]\n"
     ]
    }
   ],
   "source": [
    "x = stud[['Hours']]\n",
    "y = stud[['Scores']]\n",
    "\n",
    "LinReg = LinearRegression()\n",
    "LinReg.fit(x, y)\n",
    "print(LinReg.intercept_, LinReg.coef_)"
   ]
  },
  {
   "cell_type": "code",
   "execution_count": 5,
   "id": "33f1a868",
   "metadata": {},
   "outputs": [
    {
     "name": "stdout",
     "output_type": "stream",
     "text": [
      "0.9529481969048356\n"
     ]
    }
   ],
   "source": [
    "print(LinReg.score(x, y))"
   ]
  },
  {
   "cell_type": "markdown",
   "id": "5fc0cb19",
   "metadata": {},
   "source": [
    "### ВІДПОВІДЬ"
   ]
  },
  {
   "cell_type": "markdown",
   "id": "c0293678",
   "metadata": {},
   "source": [
    "#### Отримана лінійна регресія має високу якість з коєфіцієнтом 0.953"
   ]
  },
  {
   "cell_type": "code",
   "execution_count": null,
   "id": "d1e88262",
   "metadata": {},
   "outputs": [],
   "source": []
  }
 ],
 "metadata": {
  "kernelspec": {
   "display_name": "Python 3 (ipykernel)",
   "language": "python",
   "name": "python3"
  },
  "language_info": {
   "codemirror_mode": {
    "name": "ipython",
    "version": 3
   },
   "file_extension": ".py",
   "mimetype": "text/x-python",
   "name": "python",
   "nbconvert_exporter": "python",
   "pygments_lexer": "ipython3",
   "version": "3.10.8"
  }
 },
 "nbformat": 4,
 "nbformat_minor": 5
}
